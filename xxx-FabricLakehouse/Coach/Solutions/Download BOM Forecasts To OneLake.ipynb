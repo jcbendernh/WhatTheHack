{
 "cells": [
  {
   "cell_type": "markdown",
   "id": "52a6f256-3cbc-49bd-bfcd-fad8d77f49d4",
   "metadata": {
    "nteract": {
     "transient": {
      "deleting": false
     }
    }
   },
   "source": [
    "# Download BOM Forecasts\n",
    "\n",
    "Downloads   ``IDW11160.xml`` from Australian Bureau of Meteorology anonymous FTP server. See http://www.bom.gov.au/catalogue/data-feeds.shtml"
   ]
  },
  {
   "cell_type": "code",
   "execution_count": null,
   "id": "8f481fd4-673f-44c5-bffd-0f858500c1b2",
   "metadata": {},
   "outputs": [],
   "source": [
    "import urllib.request\n",
    "from pathlib import Path\n",
    "\n",
    "def downloadBOMFile(BOMServerPath, BOMServerFile, DownloadFolder):\n",
    "    \"\"\"\n",
    "    Download a file from the Australian Bureau of Meterology anonymous FTP server\n",
    "    \"\"\"\n",
    "    saveFile = f\"{DownloadFolder}/{BOMServerFile}\"\n",
    "\n",
    "    url = f\" ftp://anonymous@ftp.bom.gov.au{BOMServerPath}/{BOMServerFile}\"\n",
    "    print(f\"Downloading file from URL: {url} to {DownloadFolder}\")\n",
    "    \n",
    "    Path(DownloadFolder).mkdir(parents=True, exist_ok=True)\n",
    "    urllib.request.urlretrieve(url,saveFile)\n",
    "    return(saveFile)\n",
    "\n",
    "#We just need the local waters forecast IDW11160.xml\n",
    "#Other WA forecasts \"IDW14199.xml\", \"IDW14100.xml\", \"IDW12400.xml\", \"IDW13010.xml\"\n",
    "BOMFolder = \"/anon/gen/fwo\"\n",
    "BOMFile = \"IDW11160.xml\"\n",
    "BOMsaveFolder = \"/lakehouse/default/Files/BOM\"\n",
    "\n",
    "downloadBOMFile(BOMFolder, BOMFile, BOMsaveFolder)"
   ]
  }
 ],
 "metadata": {
  "kernel_info": {
   "name": "synapse_pyspark"
  },
  "kernelspec": {
   "display_name": "Synapse PySpark",
   "name": "synapse_pyspark"
  },
  "language_info": {
   "name": "python"
  },
  "microsoft": {
   "language": "python",
   "ms_spell_check": {
    "ms_spell_check_language": "en"
   }
  },
  "notebook_environment": {},
  "nteract": {
   "version": "nteract-front-end@1.0.0"
  },
  "save_output": true,
  "spark_compute": {
   "compute_id": "/trident/default",
   "session_options": {
    "conf": {},
    "enableDebugMode": false
   }
  },
  "synapse_widget": {
   "state": {},
   "version": "0.1"
  }
 },
 "nbformat": 4,
 "nbformat_minor": 5
}
