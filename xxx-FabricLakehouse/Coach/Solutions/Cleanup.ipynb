{
 "cells": [
  {
   "cell_type": "markdown",
   "id": "ff6af748-d15b-4f95-b740-d370a113ba63",
   "metadata": {
    "nteract": {
     "transient": {
      "deleting": false
     }
    }
   },
   "source": [
    "## Clean Up OneLake"
   ]
  },
  {
   "cell_type": "code",
   "execution_count": null,
   "id": "2c3c10d0-3210-4f39-ac8f-aaf791260aac",
   "metadata": {},
   "outputs": [],
   "source": [
    "from shutil import rmtree\n",
    "rmtree(\"/lakehouse/default/Files/BOM\")\n",
    "rmtree(\"/lakehouse/default/Files/WAM\")\n"
   ]
  },
  {
   "cell_type": "code",
   "execution_count": null,
   "id": "c4099c04-73a8-40b4-a4c1-13c22459dd3f",
   "metadata": {
    "jupyter": {
     "outputs_hidden": false,
     "source_hidden": false
    },
    "microsoft": {
     "language": "sparksql"
    },
    "nteract": {
     "transient": {
      "deleting": false
     }
    }
   },
   "outputs": [],
   "source": [
    "%%sql\n",
    "DROP TABLE IF EXISTS Forecasts;\n",
    "DROP TABLE IF EXISTS Shipwrecks;"
   ]
  }
 ],
 "metadata": {
  "kernel_info": {
   "name": "synapse_pyspark"
  },
  "kernelspec": {
   "display_name": "Synapse PySpark",
   "language": "Python",
   "name": "synapse_pyspark"
  },
  "language_info": {
   "name": "python"
  },
  "notebook_environment": {},
  "save_output": true,
  "spark_compute": {
   "compute_id": "/trident/default",
   "session_options": {
    "conf": {},
    "enableDebugMode": false
   }
  },
  "synapse_widget": {
   "state": {},
   "version": "0.1"
  }
 },
 "nbformat": 4,
 "nbformat_minor": 5
}
